{
 "cells": [
  {
   "cell_type": "code",
   "execution_count": 1,
   "metadata": {},
   "outputs": [],
   "source": [
    "#enables chart rendering\n",
    "%matplotlib inline"
   ]
  },
  {
   "cell_type": "code",
   "execution_count": 2,
   "metadata": {
    "scrolled": false
   },
   "outputs": [
    {
     "name": "stdout",
     "output_type": "stream",
     "text": [
      "Collecting git+https://github.com/jlondal/pyrugga.git\n",
      "  Cloning https://github.com/jlondal/pyrugga.git to /tmp/pip-req-build-qbcrt1ui\n",
      "Building wheels for collected packages: pyrugga\n",
      "  Building wheel for pyrugga (setup.py) ... \u001b[?25ldone\n",
      "\u001b[?25h  Stored in directory: /tmp/pip-ephem-wheel-cache-lupf7e97/wheels/c4/c6/06/41574b4a3a768b91eeec22fe1a22c5ca0f5a9d0bdc0d36c6fa\n",
      "Successfully built pyrugga\n",
      "Installing collected packages: pyrugga\n",
      "  Found existing installation: pyrugga 1.0.1\n",
      "    Uninstalling pyrugga-1.0.1:\n",
      "      Successfully uninstalled pyrugga-1.0.1\n",
      "Successfully installed pyrugga-1.0.1\n"
     ]
    }
   ],
   "source": [
    "!pip install --upgrade --force-reinstal --no-deps git+https://github.com/jlondal/pyrugga.git"
   ]
  },
  {
   "cell_type": "markdown",
   "metadata": {},
   "source": [
    "# First 10 Minutes \n",
    "\n",
    "Welcome to your first 10 minutes with Pyrugga. In this tutorial you will learn how to convert a Superscout XML into a Match object analyse a game of Rugby. \n",
    "\n",
    "The first step is to import Pyrugga library. This is as simple us typing "
   ]
  },
  {
   "cell_type": "code",
   "execution_count": 3,
   "metadata": {},
   "outputs": [],
   "source": [
    "import pyrugga as pgr\n",
    "import pandas as pd\n",
    "import numpy as np"
   ]
  },
  {
   "cell_type": "markdown",
   "metadata": {},
   "source": [
    "Pyrugga requires a Super Scout file containing a play by play descriptions of a match. They are stored in an XML format which is not great for statistical analysis, but useful for other things. We need to convert the XML format  into something a little more friendly, a Pandas Dataframes. "
   ]
  },
  {
   "cell_type": "code",
   "execution_count": 4,
   "metadata": {},
   "outputs": [],
   "source": [
    "df = pgr.Match('game_1.xml')"
   ]
  },
  {
   "cell_type": "markdown",
   "metadata": {},
   "source": [
    "A Match object contains a number of functions and Dataframes to help us analyse a match \n",
    "\n",
    "**Dataframes**\n",
    "\n",
    "* Summary -- Summary of the match \n",
    "* Events -- Description of each action \n",
    "* Timeline -- A timeline of the match with periods ending when either possession of the ball changes or there was a stopage in play \n",
    "\n",
    "**Functions**\n",
    "\n",
    "\n",
    "* getRef -- Will return the name of the referee\n",
    "* Draw -- Will return if the match was drawn ?\n",
    "* HomeWin -- Will return if home team won ? \n",
    "  \n",
    "\n",
    "* getTerritoryY -- amount of time each team spent in a zone (breadth of the pitch)\n",
    "* getTerritoryX -- amount of time each team spent in a zone (length of the pitch)\n",
    "* getTerritory -- amount of time each team spent in a zone (both breadth & length of the pitch)\n",
    "\n",
    "\n",
    "\n",
    "to view the summary  line of a match"
   ]
  },
  {
   "cell_type": "code",
   "execution_count": 5,
   "metadata": {
    "scrolled": true
   },
   "outputs": [
    {
     "data": {
      "text/html": [
       "<div>\n",
       "<style scoped>\n",
       "    .dataframe tbody tr th:only-of-type {\n",
       "        vertical-align: middle;\n",
       "    }\n",
       "\n",
       "    .dataframe tbody tr th {\n",
       "        vertical-align: top;\n",
       "    }\n",
       "\n",
       "    .dataframe thead th {\n",
       "        text-align: right;\n",
       "    }\n",
       "</style>\n",
       "<table border=\"1\" class=\"dataframe\">\n",
       "  <thead>\n",
       "    <tr style=\"text-align: right;\">\n",
       "      <th></th>\n",
       "      <th>fixture_code</th>\n",
       "      <th>ref_id</th>\n",
       "      <th>ref_name</th>\n",
       "      <th>fixture_date</th>\n",
       "      <th>fx_week</th>\n",
       "      <th>awayteam</th>\n",
       "      <th>hometeam</th>\n",
       "      <th>home_score</th>\n",
       "      <th>away_score</th>\n",
       "    </tr>\n",
       "  </thead>\n",
       "  <tbody>\n",
       "    <tr>\n",
       "      <th>0</th>\n",
       "      <td>719101</td>\n",
       "      <td>204</td>\n",
       "      <td>Peyper</td>\n",
       "      <td>27/10/2018</td>\n",
       "      <td>9</td>\n",
       "      <td>Natal Sharks</td>\n",
       "      <td>Western Province</td>\n",
       "      <td>12</td>\n",
       "      <td>17</td>\n",
       "    </tr>\n",
       "  </tbody>\n",
       "</table>\n",
       "</div>"
      ],
      "text/plain": [
       "   fixture_code  ref_id ref_name fixture_date  fx_week      awayteam  \\\n",
       "0        719101     204   Peyper   27/10/2018        9  Natal Sharks   \n",
       "\n",
       "           hometeam  home_score  away_score  \n",
       "0  Western Province          12          17  "
      ]
     },
     "execution_count": 5,
     "metadata": {},
     "output_type": "execute_result"
    }
   ],
   "source": [
    "df.summary"
   ]
  },
  {
   "cell_type": "markdown",
   "metadata": {},
   "source": [
    "to access the first 10 events of a match "
   ]
  },
  {
   "cell_type": "code",
   "execution_count": 6,
   "metadata": {
    "scrolled": true
   },
   "outputs": [
    {
     "data": {
      "text/html": [
       "<div>\n",
       "<style scoped>\n",
       "    .dataframe tbody tr th:only-of-type {\n",
       "        vertical-align: middle;\n",
       "    }\n",
       "\n",
       "    .dataframe tbody tr th {\n",
       "        vertical-align: top;\n",
       "    }\n",
       "\n",
       "    .dataframe thead th {\n",
       "        text-align: right;\n",
       "    }\n",
       "</style>\n",
       "<table border=\"1\" class=\"dataframe\">\n",
       "  <thead>\n",
       "    <tr style=\"text-align: right;\">\n",
       "      <th></th>\n",
       "      <th>action_id</th>\n",
       "      <th>additional</th>\n",
       "      <th>advantage</th>\n",
       "      <th>description</th>\n",
       "      <th>event</th>\n",
       "      <th>event_type</th>\n",
       "      <th>fixture_code</th>\n",
       "      <th>home_team_advantage</th>\n",
       "      <th>match_time</th>\n",
       "      <th>metres</th>\n",
       "      <th>...</th>\n",
       "      <th>ps_endstamp</th>\n",
       "      <th>ps_timestamp</th>\n",
       "      <th>set_num</th>\n",
       "      <th>shirt_no</th>\n",
       "      <th>team_name</th>\n",
       "      <th>x_coord</th>\n",
       "      <th>x_coord_end</th>\n",
       "      <th>y_coord</th>\n",
       "      <th>y_coord_end</th>\n",
       "      <th>points</th>\n",
       "    </tr>\n",
       "  </thead>\n",
       "  <tbody>\n",
       "    <tr>\n",
       "      <th>0</th>\n",
       "      <td>18665513</td>\n",
       "      <td>NaN</td>\n",
       "      <td>0</td>\n",
       "      <td>NaN</td>\n",
       "      <td>Period</td>\n",
       "      <td>Start Period</td>\n",
       "      <td>719101.0</td>\n",
       "      <td>0</td>\n",
       "      <td>0</td>\n",
       "      <td>0</td>\n",
       "      <td>...</td>\n",
       "      <td>0</td>\n",
       "      <td>0</td>\n",
       "      <td>0</td>\n",
       "      <td>0.0</td>\n",
       "      <td>Western Province</td>\n",
       "      <td>50</td>\n",
       "      <td>0</td>\n",
       "      <td>34</td>\n",
       "      <td>0</td>\n",
       "      <td>0</td>\n",
       "    </tr>\n",
       "    <tr>\n",
       "      <th>0</th>\n",
       "      <td>18665514</td>\n",
       "      <td>NaN</td>\n",
       "      <td>0</td>\n",
       "      <td>NaN</td>\n",
       "      <td>Restart</td>\n",
       "      <td>50m Restart Kick</td>\n",
       "      <td>719101.0</td>\n",
       "      <td>0</td>\n",
       "      <td>0</td>\n",
       "      <td>0</td>\n",
       "      <td>...</td>\n",
       "      <td>0</td>\n",
       "      <td>0</td>\n",
       "      <td>0</td>\n",
       "      <td>15.0</td>\n",
       "      <td>Natal Sharks</td>\n",
       "      <td>50</td>\n",
       "      <td>75</td>\n",
       "      <td>34</td>\n",
       "      <td>57</td>\n",
       "      <td>0</td>\n",
       "    </tr>\n",
       "    <tr>\n",
       "      <th>94</th>\n",
       "      <td>18665515</td>\n",
       "      <td>NaN</td>\n",
       "      <td>0</td>\n",
       "      <td>NaN</td>\n",
       "      <td>Collection</td>\n",
       "      <td>Restart Catch</td>\n",
       "      <td>719101.0</td>\n",
       "      <td>0</td>\n",
       "      <td>4</td>\n",
       "      <td>0</td>\n",
       "      <td>...</td>\n",
       "      <td>4</td>\n",
       "      <td>4</td>\n",
       "      <td>1</td>\n",
       "      <td>11.0</td>\n",
       "      <td>Western Province</td>\n",
       "      <td>26</td>\n",
       "      <td>0</td>\n",
       "      <td>13</td>\n",
       "      <td>0</td>\n",
       "      <td>0</td>\n",
       "    </tr>\n",
       "    <tr>\n",
       "      <th>65</th>\n",
       "      <td>18665516</td>\n",
       "      <td>NaN</td>\n",
       "      <td>0</td>\n",
       "      <td>NaN</td>\n",
       "      <td>Turnover</td>\n",
       "      <td>Dropped Ball Unforced</td>\n",
       "      <td>719101.0</td>\n",
       "      <td>0</td>\n",
       "      <td>4</td>\n",
       "      <td>0</td>\n",
       "      <td>...</td>\n",
       "      <td>4</td>\n",
       "      <td>4</td>\n",
       "      <td>1</td>\n",
       "      <td>11.0</td>\n",
       "      <td>Western Province</td>\n",
       "      <td>26</td>\n",
       "      <td>0</td>\n",
       "      <td>13</td>\n",
       "      <td>0</td>\n",
       "      <td>0</td>\n",
       "    </tr>\n",
       "    <tr>\n",
       "      <th>98</th>\n",
       "      <td>18665517</td>\n",
       "      <td>NaN</td>\n",
       "      <td>0</td>\n",
       "      <td>NaN</td>\n",
       "      <td>Collection</td>\n",
       "      <td>Defensive Loose Ball</td>\n",
       "      <td>719101.0</td>\n",
       "      <td>0</td>\n",
       "      <td>5</td>\n",
       "      <td>0</td>\n",
       "      <td>...</td>\n",
       "      <td>5</td>\n",
       "      <td>5</td>\n",
       "      <td>1</td>\n",
       "      <td>6.0</td>\n",
       "      <td>Natal Sharks</td>\n",
       "      <td>76</td>\n",
       "      <td>0</td>\n",
       "      <td>54</td>\n",
       "      <td>0</td>\n",
       "      <td>0</td>\n",
       "    </tr>\n",
       "    <tr>\n",
       "      <th>218</th>\n",
       "      <td>18665518</td>\n",
       "      <td>Neutral Contact</td>\n",
       "      <td>0</td>\n",
       "      <td>Neutral</td>\n",
       "      <td>Carry</td>\n",
       "      <td>Other Carry</td>\n",
       "      <td>719101.0</td>\n",
       "      <td>0</td>\n",
       "      <td>7</td>\n",
       "      <td>0</td>\n",
       "      <td>...</td>\n",
       "      <td>7</td>\n",
       "      <td>7</td>\n",
       "      <td>1</td>\n",
       "      <td>6.0</td>\n",
       "      <td>Natal Sharks</td>\n",
       "      <td>76</td>\n",
       "      <td>0</td>\n",
       "      <td>54</td>\n",
       "      <td>0</td>\n",
       "      <td>0</td>\n",
       "    </tr>\n",
       "    <tr>\n",
       "      <th>404</th>\n",
       "      <td>18665519</td>\n",
       "      <td>NaN</td>\n",
       "      <td>0</td>\n",
       "      <td>NaN</td>\n",
       "      <td>Tackle</td>\n",
       "      <td>Line Tackle</td>\n",
       "      <td>719101.0</td>\n",
       "      <td>0</td>\n",
       "      <td>7</td>\n",
       "      <td>0</td>\n",
       "      <td>...</td>\n",
       "      <td>7</td>\n",
       "      <td>7</td>\n",
       "      <td>1</td>\n",
       "      <td>11.0</td>\n",
       "      <td>Western Province</td>\n",
       "      <td>24</td>\n",
       "      <td>0</td>\n",
       "      <td>14</td>\n",
       "      <td>0</td>\n",
       "      <td>0</td>\n",
       "    </tr>\n",
       "    <tr>\n",
       "      <th>137</th>\n",
       "      <td>18665520</td>\n",
       "      <td>NaN</td>\n",
       "      <td>0</td>\n",
       "      <td>NaN</td>\n",
       "      <td>Ruck</td>\n",
       "      <td>NaN</td>\n",
       "      <td>719101.0</td>\n",
       "      <td>0</td>\n",
       "      <td>7</td>\n",
       "      <td>0</td>\n",
       "      <td>...</td>\n",
       "      <td>7</td>\n",
       "      <td>7</td>\n",
       "      <td>1</td>\n",
       "      <td>0.0</td>\n",
       "      <td>Natal Sharks</td>\n",
       "      <td>75</td>\n",
       "      <td>0</td>\n",
       "      <td>52</td>\n",
       "      <td>0</td>\n",
       "      <td>0</td>\n",
       "    </tr>\n",
       "    <tr>\n",
       "      <th>680</th>\n",
       "      <td>18665521</td>\n",
       "      <td>NaN</td>\n",
       "      <td>0</td>\n",
       "      <td>NaN</td>\n",
       "      <td>Pass</td>\n",
       "      <td>Complete Pass</td>\n",
       "      <td>719101.0</td>\n",
       "      <td>0</td>\n",
       "      <td>7</td>\n",
       "      <td>0</td>\n",
       "      <td>...</td>\n",
       "      <td>7</td>\n",
       "      <td>7</td>\n",
       "      <td>1</td>\n",
       "      <td>9.0</td>\n",
       "      <td>Natal Sharks</td>\n",
       "      <td>75</td>\n",
       "      <td>0</td>\n",
       "      <td>52</td>\n",
       "      <td>0</td>\n",
       "      <td>0</td>\n",
       "    </tr>\n",
       "    <tr>\n",
       "      <th>231</th>\n",
       "      <td>18665522</td>\n",
       "      <td>Neutral Contact</td>\n",
       "      <td>0</td>\n",
       "      <td>Crossed Gainline</td>\n",
       "      <td>Carry</td>\n",
       "      <td>One Out Drive</td>\n",
       "      <td>719101.0</td>\n",
       "      <td>0</td>\n",
       "      <td>12</td>\n",
       "      <td>2</td>\n",
       "      <td>...</td>\n",
       "      <td>12</td>\n",
       "      <td>12</td>\n",
       "      <td>1</td>\n",
       "      <td>3.0</td>\n",
       "      <td>Natal Sharks</td>\n",
       "      <td>75</td>\n",
       "      <td>0</td>\n",
       "      <td>52</td>\n",
       "      <td>0</td>\n",
       "      <td>0</td>\n",
       "    </tr>\n",
       "  </tbody>\n",
       "</table>\n",
       "<p>10 rows × 25 columns</p>\n",
       "</div>"
      ],
      "text/plain": [
       "     action_id       additional  advantage       description       event  \\\n",
       "0     18665513              NaN          0               NaN      Period   \n",
       "0     18665514              NaN          0               NaN     Restart   \n",
       "94    18665515              NaN          0               NaN  Collection   \n",
       "65    18665516              NaN          0               NaN    Turnover   \n",
       "98    18665517              NaN          0               NaN  Collection   \n",
       "218   18665518  Neutral Contact          0           Neutral       Carry   \n",
       "404   18665519              NaN          0               NaN      Tackle   \n",
       "137   18665520              NaN          0               NaN        Ruck   \n",
       "680   18665521              NaN          0               NaN        Pass   \n",
       "231   18665522  Neutral Contact          0  Crossed Gainline       Carry   \n",
       "\n",
       "                event_type  fixture_code  home_team_advantage  match_time  \\\n",
       "0             Start Period      719101.0                    0           0   \n",
       "0         50m Restart Kick      719101.0                    0           0   \n",
       "94           Restart Catch      719101.0                    0           4   \n",
       "65   Dropped Ball Unforced      719101.0                    0           4   \n",
       "98    Defensive Loose Ball      719101.0                    0           5   \n",
       "218            Other Carry      719101.0                    0           7   \n",
       "404            Line Tackle      719101.0                    0           7   \n",
       "137                    NaN      719101.0                    0           7   \n",
       "680          Complete Pass      719101.0                    0           7   \n",
       "231          One Out Drive      719101.0                    0          12   \n",
       "\n",
       "     metres  ... ps_endstamp  ps_timestamp  set_num shirt_no  \\\n",
       "0         0  ...           0             0        0      0.0   \n",
       "0         0  ...           0             0        0     15.0   \n",
       "94        0  ...           4             4        1     11.0   \n",
       "65        0  ...           4             4        1     11.0   \n",
       "98        0  ...           5             5        1      6.0   \n",
       "218       0  ...           7             7        1      6.0   \n",
       "404       0  ...           7             7        1     11.0   \n",
       "137       0  ...           7             7        1      0.0   \n",
       "680       0  ...           7             7        1      9.0   \n",
       "231       2  ...          12            12        1      3.0   \n",
       "\n",
       "            team_name  x_coord  x_coord_end  y_coord  y_coord_end points  \n",
       "0    Western Province       50            0       34            0      0  \n",
       "0        Natal Sharks       50           75       34           57      0  \n",
       "94   Western Province       26            0       13            0      0  \n",
       "65   Western Province       26            0       13            0      0  \n",
       "98       Natal Sharks       76            0       54            0      0  \n",
       "218      Natal Sharks       76            0       54            0      0  \n",
       "404  Western Province       24            0       14            0      0  \n",
       "137      Natal Sharks       75            0       52            0      0  \n",
       "680      Natal Sharks       75            0       52            0      0  \n",
       "231      Natal Sharks       75            0       52            0      0  \n",
       "\n",
       "[10 rows x 25 columns]"
      ]
     },
     "execution_count": 6,
     "metadata": {},
     "output_type": "execute_result"
    }
   ],
   "source": [
    "df.events.head(10)"
   ]
  },
  {
   "cell_type": "markdown",
   "metadata": {},
   "source": [
    "to access the the Sharks first periods of play "
   ]
  },
  {
   "cell_type": "code",
   "execution_count": 7,
   "metadata": {
    "scrolled": true
   },
   "outputs": [
    {
     "data": {
      "text/html": [
       "<div>\n",
       "<style scoped>\n",
       "    .dataframe tbody tr th:only-of-type {\n",
       "        vertical-align: middle;\n",
       "    }\n",
       "\n",
       "    .dataframe tbody tr th {\n",
       "        vertical-align: top;\n",
       "    }\n",
       "\n",
       "    .dataframe thead th {\n",
       "        text-align: right;\n",
       "    }\n",
       "</style>\n",
       "<table border=\"1\" class=\"dataframe\">\n",
       "  <thead>\n",
       "    <tr style=\"text-align: right;\">\n",
       "      <th></th>\n",
       "      <th>period</th>\n",
       "      <th>set_num</th>\n",
       "      <th>team_name</th>\n",
       "      <th>points</th>\n",
       "      <th>x_coord</th>\n",
       "      <th>x_coord_end</th>\n",
       "      <th>y_coord</th>\n",
       "      <th>y_coord_end</th>\n",
       "      <th>meters_gained</th>\n",
       "      <th>dist_traveled</th>\n",
       "      <th>...</th>\n",
       "      <th>fly_half_defensive</th>\n",
       "      <th>left_wing_defensive</th>\n",
       "      <th>inside_centre_defensive</th>\n",
       "      <th>outside_centre_defensive</th>\n",
       "      <th>right_wing_defensive</th>\n",
       "      <th>full_back_defensive</th>\n",
       "      <th>Natal Sharks</th>\n",
       "      <th>Western Province</th>\n",
       "      <th>Natal Sharks_points</th>\n",
       "      <th>Western Province_points</th>\n",
       "    </tr>\n",
       "  </thead>\n",
       "  <tbody>\n",
       "    <tr>\n",
       "      <th>0</th>\n",
       "      <td>1</td>\n",
       "      <td>1</td>\n",
       "      <td>Natal Sharks</td>\n",
       "      <td>0</td>\n",
       "      <td>74</td>\n",
       "      <td>75</td>\n",
       "      <td>55</td>\n",
       "      <td>22</td>\n",
       "      <td>1</td>\n",
       "      <td>33.015148</td>\n",
       "      <td>...</td>\n",
       "      <td>0</td>\n",
       "      <td>2</td>\n",
       "      <td>0</td>\n",
       "      <td>0</td>\n",
       "      <td>0</td>\n",
       "      <td>0</td>\n",
       "      <td>0.0</td>\n",
       "      <td>0.0</td>\n",
       "      <td>0.0</td>\n",
       "      <td>0.0</td>\n",
       "    </tr>\n",
       "    <tr>\n",
       "      <th>1</th>\n",
       "      <td>1</td>\n",
       "      <td>2</td>\n",
       "      <td>Natal Sharks</td>\n",
       "      <td>0</td>\n",
       "      <td>24</td>\n",
       "      <td>59</td>\n",
       "      <td>1</td>\n",
       "      <td>54</td>\n",
       "      <td>35</td>\n",
       "      <td>63.513778</td>\n",
       "      <td>...</td>\n",
       "      <td>1</td>\n",
       "      <td>0</td>\n",
       "      <td>0</td>\n",
       "      <td>0</td>\n",
       "      <td>0</td>\n",
       "      <td>1</td>\n",
       "      <td>0.0</td>\n",
       "      <td>0.0</td>\n",
       "      <td>0.0</td>\n",
       "      <td>0.0</td>\n",
       "    </tr>\n",
       "    <tr>\n",
       "      <th>3</th>\n",
       "      <td>1</td>\n",
       "      <td>4</td>\n",
       "      <td>Natal Sharks</td>\n",
       "      <td>0</td>\n",
       "      <td>31</td>\n",
       "      <td>102</td>\n",
       "      <td>21</td>\n",
       "      <td>49</td>\n",
       "      <td>71</td>\n",
       "      <td>76.321688</td>\n",
       "      <td>...</td>\n",
       "      <td>0</td>\n",
       "      <td>0</td>\n",
       "      <td>1</td>\n",
       "      <td>0</td>\n",
       "      <td>0</td>\n",
       "      <td>1</td>\n",
       "      <td>0.0</td>\n",
       "      <td>0.0</td>\n",
       "      <td>0.0</td>\n",
       "      <td>0.0</td>\n",
       "    </tr>\n",
       "  </tbody>\n",
       "</table>\n",
       "<p>3 rows × 182 columns</p>\n",
       "</div>"
      ],
      "text/plain": [
       "   period  set_num     team_name  points  x_coord  x_coord_end  y_coord  \\\n",
       "0       1        1  Natal Sharks       0       74           75       55   \n",
       "1       1        2  Natal Sharks       0       24           59        1   \n",
       "3       1        4  Natal Sharks       0       31          102       21   \n",
       "\n",
       "   y_coord_end  meters_gained  dist_traveled  ...  fly_half_defensive  \\\n",
       "0           22              1      33.015148  ...                   0   \n",
       "1           54             35      63.513778  ...                   1   \n",
       "3           49             71      76.321688  ...                   0   \n",
       "\n",
       "   left_wing_defensive inside_centre_defensive outside_centre_defensive  \\\n",
       "0                    2                       0                        0   \n",
       "1                    0                       0                        0   \n",
       "3                    0                       1                        0   \n",
       "\n",
       "   right_wing_defensive  full_back_defensive  Natal Sharks  Western Province  \\\n",
       "0                     0                    0           0.0               0.0   \n",
       "1                     0                    1           0.0               0.0   \n",
       "3                     0                    1           0.0               0.0   \n",
       "\n",
       "   Natal Sharks_points  Western Province_points  \n",
       "0                  0.0                      0.0  \n",
       "1                  0.0                      0.0  \n",
       "3                  0.0                      0.0  \n",
       "\n",
       "[3 rows x 182 columns]"
      ]
     },
     "execution_count": 7,
     "metadata": {},
     "output_type": "execute_result"
    }
   ],
   "source": [
    "df.timeline.query('team_name == \"Natal Sharks\"').head(3)"
   ]
  },
  {
   "cell_type": "markdown",
   "metadata": {},
   "source": [
    "And so on ..."
   ]
  },
  {
   "cell_type": "code",
   "execution_count": 8,
   "metadata": {},
   "outputs": [
    {
     "data": {
      "text/plain": [
       "False"
      ]
     },
     "execution_count": 8,
     "metadata": {},
     "output_type": "execute_result"
    }
   ],
   "source": [
    "df.Draw()"
   ]
  },
  {
   "cell_type": "code",
   "execution_count": 9,
   "metadata": {},
   "outputs": [
    {
     "data": {
      "text/plain": [
       "False"
      ]
     },
     "execution_count": 9,
     "metadata": {},
     "output_type": "execute_result"
    }
   ],
   "source": [
    "df.HomeWin()"
   ]
  },
  {
   "cell_type": "code",
   "execution_count": 10,
   "metadata": {},
   "outputs": [
    {
     "data": {
      "text/plain": [
       "'Peyper'"
      ]
     },
     "execution_count": 10,
     "metadata": {},
     "output_type": "execute_result"
    }
   ],
   "source": [
    "df.getRef()"
   ]
  },
  {
   "cell_type": "markdown",
   "metadata": {},
   "source": [
    "# Some Analysis\n",
    "\n",
    "Lets do to something a little more useful. To working which team had the most possession during a game. \n",
    "\n",
    "Remember our match is still stored in variable **df** and it contains three Dataframes called\n",
    "\n",
    "* **events**, a blow by blow account of every action in a match\n",
    "* **timelines**, match broken into periods of play ending with a stopage in play or change of posession \n",
    "* **summary**, a summary of the match\n",
    "\n",
    "To access the timeline \n",
    "\n",
    "```python\n",
    "df.timeline\n",
    "```\n",
    "\n",
    "then we will want to group by team_name and sum up the length of time each team had the ball. Group by is as simple as just \".groupby('team_name')\" \n",
    "\n",
    "```python\n",
    "df.timeline.groupby('team_name') \n",
    "```\n",
    "\n",
    "and then to sum add \".sum()\" and for length add \"['length']\" leaving us with "
   ]
  },
  {
   "cell_type": "code",
   "execution_count": 11,
   "metadata": {
    "scrolled": true
   },
   "outputs": [
    {
     "data": {
      "text/plain": [
       "team_name\n",
       "Natal Sharks        1349\n",
       "Western Province     707\n",
       "Name: length, dtype: int64"
      ]
     },
     "execution_count": 11,
     "metadata": {},
     "output_type": "execute_result"
    }
   ],
   "source": [
    "df.timeline.groupby('team_name').sum()['length'] "
   ]
  },
  {
   "cell_type": "markdown",
   "metadata": {},
   "source": [
    "The Sharks had the ball 1349 seconds compare to Province 707 secounds.  \n",
    "\n",
    "If we wanted to see this in a percentage we need to sum the column which requires adding another \".sum()\"\n"
   ]
  },
  {
   "cell_type": "code",
   "execution_count": 12,
   "metadata": {},
   "outputs": [
    {
     "data": {
      "text/plain": [
       "team_name\n",
       "Natal Sharks        0.656128\n",
       "Western Province    0.343872\n",
       "Name: length, dtype: float64"
      ]
     },
     "execution_count": 12,
     "metadata": {},
     "output_type": "execute_result"
    }
   ],
   "source": [
    "df.timeline.groupby('team_name').sum()['length'] / (df.timeline.groupby('team_name').sum()['length'].sum())"
   ]
  },
  {
   "cell_type": "markdown",
   "metadata": {},
   "source": [
    "Say we want to see points per second with ball. We can see Province was slightly more effective scoring points than The Sharks."
   ]
  },
  {
   "cell_type": "code",
   "execution_count": 13,
   "metadata": {},
   "outputs": [
    {
     "data": {
      "text/plain": [
       "team_name\n",
       "Natal Sharks        96.357143\n",
       "Western Province    78.555556\n",
       "dtype: float64"
      ]
     },
     "execution_count": 13,
     "metadata": {},
     "output_type": "execute_result"
    }
   ],
   "source": [
    "df.timeline.groupby(['team_name']).sum()['length'] / (df.timeline.groupby('team_name')['points'].sum())"
   ]
  },
  {
   "cell_type": "markdown",
   "metadata": {},
   "source": [
    "But what about that other TV statistics we tend to see such as territory I here you say. There are three functions to help us calculate that"
   ]
  },
  {
   "cell_type": "code",
   "execution_count": 14,
   "metadata": {
    "scrolled": true
   },
   "outputs": [
    {
     "ename": "UnboundLocalError",
     "evalue": "local variable 'tmp' referenced before assignment",
     "output_type": "error",
     "traceback": [
      "\u001b[0;31m---------------------------------------------------------------------------\u001b[0m",
      "\u001b[0;31mUnboundLocalError\u001b[0m                         Traceback (most recent call last)",
      "\u001b[0;32m<ipython-input-14-4541cbc6ae53>\u001b[0m in \u001b[0;36m<module>\u001b[0;34m\u001b[0m\n\u001b[0;32m----> 1\u001b[0;31m \u001b[0mdf\u001b[0m\u001b[0;34m.\u001b[0m\u001b[0mgetTerritory\u001b[0m\u001b[0;34m(\u001b[0m\u001b[0mperc\u001b[0m\u001b[0;34m=\u001b[0m\u001b[0;32mTrue\u001b[0m\u001b[0;34m)\u001b[0m\u001b[0;34m\u001b[0m\u001b[0;34m\u001b[0m\u001b[0m\n\u001b[0m",
      "\u001b[0;32m/usr/local/lib/python3.6/site-packages/pyrugga/match.py\u001b[0m in \u001b[0;36mgetTerritory\u001b[0;34m(self, perc, event, event_type, description)\u001b[0m\n\u001b[1;32m    564\u001b[0m             \u001b[0mtmp\u001b[0m \u001b[0;34m=\u001b[0m \u001b[0mself\u001b[0m\u001b[0;34m.\u001b[0m\u001b[0mevents\u001b[0m\u001b[0;34m.\u001b[0m\u001b[0mquery\u001b[0m\u001b[0;34m(\u001b[0m\u001b[0;34m'description == \"%s\"'\u001b[0m \u001b[0;34m%\u001b[0m \u001b[0;34m(\u001b[0m\u001b[0mevent\u001b[0m\u001b[0;34m)\u001b[0m\u001b[0;34m)\u001b[0m\u001b[0;34m\u001b[0m\u001b[0;34m\u001b[0m\u001b[0m\n\u001b[1;32m    565\u001b[0m \u001b[0;34m\u001b[0m\u001b[0m\n\u001b[0;32m--> 566\u001b[0;31m         \u001b[0mpos\u001b[0m \u001b[0;34m=\u001b[0m \u001b[0mtmp\u001b[0m\u001b[0;34m.\u001b[0m\u001b[0mgroupby\u001b[0m\u001b[0;34m(\u001b[0m\u001b[0;34m[\u001b[0m\u001b[0;34m'team_name'\u001b[0m\u001b[0;34m,\u001b[0m\u001b[0;34m'x_coord'\u001b[0m\u001b[0;34m,\u001b[0m\u001b[0;34m'y_coord'\u001b[0m\u001b[0;34m]\u001b[0m\u001b[0;34m)\u001b[0m\u001b[0;34m.\u001b[0m\u001b[0mcount\u001b[0m\u001b[0;34m(\u001b[0m\u001b[0;34m)\u001b[0m\u001b[0;34m[\u001b[0m\u001b[0;34m'action_id'\u001b[0m\u001b[0;34m]\u001b[0m\u001b[0;34m.\u001b[0m\u001b[0mreset_index\u001b[0m\u001b[0;34m(\u001b[0m\u001b[0;34m)\u001b[0m\u001b[0;34m\u001b[0m\u001b[0;34m\u001b[0m\u001b[0m\n\u001b[0m\u001b[1;32m    567\u001b[0m \u001b[0;34m\u001b[0m\u001b[0m\n\u001b[1;32m    568\u001b[0m \u001b[0;34m\u001b[0m\u001b[0m\n",
      "\u001b[0;31mUnboundLocalError\u001b[0m: local variable 'tmp' referenced before assignment"
     ]
    }
   ],
   "source": [
    "df.getTerritory(perc=True)"
   ]
  },
  {
   "cell_type": "code",
   "execution_count": null,
   "metadata": {},
   "outputs": [],
   "source": [
    "# Territory in the length of the pitch\n",
    "df.getTerritoryX(perc=True)"
   ]
  },
  {
   "cell_type": "code",
   "execution_count": null,
   "metadata": {},
   "outputs": [],
   "source": [
    "# Territory in the width of the pitch\n",
    "df.getTerritoryY(perc=True)"
   ]
  },
  {
   "cell_type": "code",
   "execution_count": null,
   "metadata": {},
   "outputs": [],
   "source": [
    "df.getTerritoryMetric()"
   ]
  },
  {
   "cell_type": "markdown",
   "metadata": {},
   "source": [
    "We can also build out plots to see that the Sharks play slight more on the left side than the right while the Storms do not have much preferance"
   ]
  },
  {
   "cell_type": "code",
   "execution_count": null,
   "metadata": {},
   "outputs": [],
   "source": [
    "df.getTerritoryY(perc=True).plot(kind='bar',figsize=(17,8),title='Width')"
   ]
  },
  {
   "cell_type": "code",
   "execution_count": null,
   "metadata": {},
   "outputs": [],
   "source": [
    "df.getTerritoryX(perc=True).plot(kind='barh',figsize=(17,8),title='Territory')"
   ]
  },
  {
   "cell_type": "code",
   "execution_count": null,
   "metadata": {},
   "outputs": [],
   "source": [
    "df.heat_map()"
   ]
  },
  {
   "cell_type": "code",
   "execution_count": null,
   "metadata": {},
   "outputs": [],
   "source": [
    "df.heat_map(cust_metric='Kick')"
   ]
  },
  {
   "cell_type": "code",
   "execution_count": null,
   "metadata": {},
   "outputs": [],
   "source": [
    "df.heat_map(cust_metric='Pass')"
   ]
  },
  {
   "cell_type": "code",
   "execution_count": null,
   "metadata": {},
   "outputs": [],
   "source": [
    "df.heat_map(cust_metric='Carry')"
   ]
  },
  {
   "cell_type": "code",
   "execution_count": null,
   "metadata": {},
   "outputs": [],
   "source": [
    "df.events"
   ]
  },
  {
   "cell_type": "code",
   "execution_count": null,
   "metadata": {},
   "outputs": [],
   "source": []
  },
  {
   "cell_type": "markdown",
   "metadata": {},
   "source": [
    "## Players\n",
    "\n",
    "Produces a summary of each player with the option to normilised either via minutes, actions or phases. "
   ]
  },
  {
   "cell_type": "code",
   "execution_count": null,
   "metadata": {
    "scrolled": true
   },
   "outputs": [],
   "source": [
    "df.player_summary(norm='mins')"
   ]
  },
  {
   "cell_type": "code",
   "execution_count": null,
   "metadata": {
    "scrolled": true
   },
   "outputs": [],
   "source": [
    "df.player_summary(norm='actions')"
   ]
  },
  {
   "cell_type": "code",
   "execution_count": null,
   "metadata": {
    "scrolled": true
   },
   "outputs": [],
   "source": [
    "df.player_summary(norm='phases')"
   ]
  },
  {
   "cell_type": "code",
   "execution_count": null,
   "metadata": {
    "scrolled": true
   },
   "outputs": [],
   "source": [
    "df.player_summary()"
   ]
  },
  {
   "cell_type": "code",
   "execution_count": null,
   "metadata": {},
   "outputs": [],
   "source": [
    "df."
   ]
  }
 ],
 "metadata": {
  "kernelspec": {
   "display_name": "Python 3",
   "language": "python",
   "name": "python3"
  },
  "language_info": {
   "codemirror_mode": {
    "name": "ipython",
    "version": 3
   },
   "file_extension": ".py",
   "mimetype": "text/x-python",
   "name": "python",
   "nbconvert_exporter": "python",
   "pygments_lexer": "ipython3",
   "version": "3.6.7"
  }
 },
 "nbformat": 4,
 "nbformat_minor": 2
}
