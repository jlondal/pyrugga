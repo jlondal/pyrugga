{
 "cells": [
  {
   "cell_type": "code",
   "execution_count": 1,
   "metadata": {},
   "outputs": [],
   "source": [
    "#enables chart rendering\n",
    "%matplotlib inline"
   ]
  },
  {
   "cell_type": "code",
   "execution_count": 2,
   "metadata": {
    "scrolled": false
   },
   "outputs": [
    {
     "name": "stdout",
     "output_type": "stream",
     "text": [
      "Collecting git+https://github.com/jlondal/pyrugga.git\n",
      "  Cloning https://github.com/jlondal/pyrugga.git to /tmp/pip-req-build-9jyo3hbr\n",
      "Building wheels for collected packages: pyrugga\n",
      "  Building wheel for pyrugga (setup.py) ... \u001b[?25ldone\n",
      "\u001b[?25h  Stored in directory: /tmp/pip-ephem-wheel-cache-ivwz5jby/wheels/c4/c6/06/41574b4a3a768b91eeec22fe1a22c5ca0f5a9d0bdc0d36c6fa\n",
      "Successfully built pyrugga\n",
      "Installing collected packages: pyrugga\n",
      "  Found existing installation: pyrugga 1.0.1\n",
      "    Uninstalling pyrugga-1.0.1:\n",
      "      Successfully uninstalled pyrugga-1.0.1\n",
      "Successfully installed pyrugga-1.0.1\n"
     ]
    }
   ],
   "source": [
    "!pip install --upgrade --force-reinstal --no-deps git+https://github.com/jlondal/pyrugga.git"
   ]
  },
  {
   "cell_type": "markdown",
   "metadata": {},
   "source": [
    "# First 10 Minutes \n",
    "\n",
    "Welcome to your first 10 minutes with Pyrugga. In this tutorial you will learn how to convert a Superscout XML into a Match object analyse a game of Rugby. \n",
    "\n",
    "The first step is to import Pyrugga library. This is as simple us typing "
   ]
  },
  {
   "cell_type": "code",
   "execution_count": 3,
   "metadata": {},
   "outputs": [
    {
     "ename": "SyntaxError",
     "evalue": "invalid syntax (match.py, line 508)",
     "output_type": "error",
     "traceback": [
      "Traceback \u001b[0;36m(most recent call last)\u001b[0m:\n",
      "  File \u001b[1;32m\"/usr/local/lib/python3.6/site-packages/IPython/core/interactiveshell.py\"\u001b[0m, line \u001b[1;32m3296\u001b[0m, in \u001b[1;35mrun_code\u001b[0m\n    exec(code_obj, self.user_global_ns, self.user_ns)\n",
      "  File \u001b[1;32m\"<ipython-input-3-7ec8b13fecb6>\"\u001b[0m, line \u001b[1;32m1\u001b[0m, in \u001b[1;35m<module>\u001b[0m\n    import pyrugga as pgr\n",
      "\u001b[0;36m  File \u001b[0;32m\"/usr/local/lib/python3.6/site-packages/pyrugga/__init__.py\"\u001b[0;36m, line \u001b[0;32m10\u001b[0;36m, in \u001b[0;35m<module>\u001b[0;36m\u001b[0m\n\u001b[0;31m    from pyrugga.match import Match\u001b[0m\n",
      "\u001b[0;36m  File \u001b[0;32m\"/usr/local/lib/python3.6/site-packages/pyrugga/match.py\"\u001b[0;36m, line \u001b[0;32m508\u001b[0m\n\u001b[0;31m    def getTerritoryX(self,perc=False, cust_metric=None):, event=None, event_type=None, description=None):\u001b[0m\n\u001b[0m                                                         ^\u001b[0m\n\u001b[0;31mSyntaxError\u001b[0m\u001b[0;31m:\u001b[0m invalid syntax\n"
     ]
    }
   ],
   "source": [
    "import pyrugga as pgr\n",
    "import pandas as pd\n",
    "import numpy as np"
   ]
  },
  {
   "cell_type": "markdown",
   "metadata": {},
   "source": [
    "Pyrugga requires a Super Scout file containing a play by play descriptions of a match. They are stored in an XML format which is not great for statistical analysis, but useful for other things. We need to convert the XML format  into something a little more friendly, a Pandas Dataframes. "
   ]
  },
  {
   "cell_type": "code",
   "execution_count": null,
   "metadata": {},
   "outputs": [],
   "source": [
    "df = pgr.Match('game_1.xml')"
   ]
  },
  {
   "cell_type": "markdown",
   "metadata": {},
   "source": [
    "A Match object contains a number of functions and Dataframes to help us analyse a match \n",
    "\n",
    "**Dataframes**\n",
    "\n",
    "* Summary -- Summary of the match \n",
    "* Events -- Description of each action \n",
    "* Timeline -- A timeline of the match with periods ending when either possession of the ball changes or there was a stopage in play \n",
    "\n",
    "**Functions**\n",
    "\n",
    "\n",
    "* getRef -- Will return the name of the referee\n",
    "* Draw -- Will return if the match was drawn ?\n",
    "* HomeWin -- Will return if home team won ? \n",
    "  \n",
    "\n",
    "* getTerritoryY -- amount of time each team spent in a zone (breadth of the pitch)\n",
    "* getTerritoryX -- amount of time each team spent in a zone (length of the pitch)\n",
    "* getTerritory -- amount of time each team spent in a zone (both breadth & length of the pitch)\n",
    "\n",
    "\n",
    "\n",
    "to view the summary  line of a match"
   ]
  },
  {
   "cell_type": "code",
   "execution_count": null,
   "metadata": {
    "scrolled": true
   },
   "outputs": [],
   "source": [
    "df.summary"
   ]
  },
  {
   "cell_type": "markdown",
   "metadata": {},
   "source": [
    "to access the first 10 events of a match "
   ]
  },
  {
   "cell_type": "code",
   "execution_count": null,
   "metadata": {
    "scrolled": true
   },
   "outputs": [],
   "source": [
    "df.events.head(10)"
   ]
  },
  {
   "cell_type": "markdown",
   "metadata": {},
   "source": [
    "to access the the Sharks first periods of play "
   ]
  },
  {
   "cell_type": "code",
   "execution_count": null,
   "metadata": {
    "scrolled": true
   },
   "outputs": [],
   "source": [
    "df.timeline.query('team_name == \"Natal Sharks\"').head(3)"
   ]
  },
  {
   "cell_type": "markdown",
   "metadata": {},
   "source": [
    "And so on ..."
   ]
  },
  {
   "cell_type": "code",
   "execution_count": null,
   "metadata": {},
   "outputs": [],
   "source": [
    "df.Draw()"
   ]
  },
  {
   "cell_type": "code",
   "execution_count": null,
   "metadata": {},
   "outputs": [],
   "source": [
    "df.HomeWin()"
   ]
  },
  {
   "cell_type": "code",
   "execution_count": null,
   "metadata": {},
   "outputs": [],
   "source": [
    "df.getRef()"
   ]
  },
  {
   "cell_type": "markdown",
   "metadata": {},
   "source": [
    "# Some Analysis\n",
    "\n",
    "Lets do to something a little more useful. To working which team had the most possession during a game. \n",
    "\n",
    "Remember our match is still stored in variable **df** and it contains three Dataframes called\n",
    "\n",
    "* **events**, a blow by blow account of every action in a match\n",
    "* **timelines**, match broken into periods of play ending with a stopage in play or change of posession \n",
    "* **summary**, a summary of the match\n",
    "\n",
    "To access the timeline \n",
    "\n",
    "```python\n",
    "df.timeline\n",
    "```\n",
    "\n",
    "then we will want to group by team_name and sum up the length of time each team had the ball. Group by is as simple as just \".groupby('team_name')\" \n",
    "\n",
    "```python\n",
    "df.timeline.groupby('team_name') \n",
    "```\n",
    "\n",
    "and then to sum add \".sum()\" and for length add \"['length']\" leaving us with "
   ]
  },
  {
   "cell_type": "code",
   "execution_count": null,
   "metadata": {
    "scrolled": true
   },
   "outputs": [],
   "source": [
    "df.timeline.groupby('team_name').sum()['length'] "
   ]
  },
  {
   "cell_type": "markdown",
   "metadata": {},
   "source": [
    "The Sharks had the ball 1349 seconds compare to Province 707 secounds.  \n",
    "\n",
    "If we wanted to see this in a percentage we need to sum the column which requires adding another \".sum()\"\n"
   ]
  },
  {
   "cell_type": "code",
   "execution_count": null,
   "metadata": {},
   "outputs": [],
   "source": [
    "df.timeline.groupby('team_name').sum()['length'] / (df.timeline.groupby('team_name').sum()['length'].sum())"
   ]
  },
  {
   "cell_type": "markdown",
   "metadata": {},
   "source": [
    "Say we want to see points per second with ball. We can see Province was slightly more effective scoring points than The Sharks."
   ]
  },
  {
   "cell_type": "code",
   "execution_count": null,
   "metadata": {},
   "outputs": [],
   "source": [
    "df.timeline.groupby(['team_name']).sum()['length'] / (df.timeline.groupby('team_name')['points'].sum())"
   ]
  },
  {
   "cell_type": "markdown",
   "metadata": {},
   "source": [
    "But what about that other TV statistics we tend to see such as territory I here you say. There are three functions to help us calculate that"
   ]
  },
  {
   "cell_type": "code",
   "execution_count": null,
   "metadata": {
    "scrolled": true
   },
   "outputs": [],
   "source": [
    "df.getTerritory(perc=True)"
   ]
  },
  {
   "cell_type": "code",
   "execution_count": null,
   "metadata": {},
   "outputs": [],
   "source": [
    "# Territory in the length of the pitch\n",
    "df.getTerritoryX(perc=True)"
   ]
  },
  {
   "cell_type": "code",
   "execution_count": null,
   "metadata": {},
   "outputs": [],
   "source": [
    "# Territory in the width of the pitch\n",
    "df.getTerritoryY(perc=True)"
   ]
  },
  {
   "cell_type": "code",
   "execution_count": null,
   "metadata": {},
   "outputs": [],
   "source": [
    "df.getTerritoryMetric()"
   ]
  },
  {
   "cell_type": "markdown",
   "metadata": {},
   "source": [
    "We can also build out plots to see that the Sharks play slight more on the left side than the right while the Storms do not have much preferance"
   ]
  },
  {
   "cell_type": "code",
   "execution_count": null,
   "metadata": {},
   "outputs": [],
   "source": [
    "df.getTerritoryY(perc=True).plot(kind='bar',figsize=(17,8),title='Width')"
   ]
  },
  {
   "cell_type": "code",
   "execution_count": null,
   "metadata": {},
   "outputs": [],
   "source": [
    "df.getTerritoryX(perc=True).plot(kind='barh',figsize=(17,8),title='Territory')"
   ]
  },
  {
   "cell_type": "code",
   "execution_count": null,
   "metadata": {},
   "outputs": [],
   "source": [
    "df.heat_map()"
   ]
  },
  {
   "cell_type": "code",
   "execution_count": null,
   "metadata": {},
   "outputs": [],
   "source": [
    "df.heat_map(cust_metric='Kick')"
   ]
  },
  {
   "cell_type": "code",
   "execution_count": null,
   "metadata": {},
   "outputs": [],
   "source": [
    "df.heat_map(cust_metric='Pass')"
   ]
  },
  {
   "cell_type": "code",
   "execution_count": null,
   "metadata": {},
   "outputs": [],
   "source": [
    "df.heat_map(cust_metric='Carry')"
   ]
  },
  {
   "cell_type": "code",
   "execution_count": null,
   "metadata": {},
   "outputs": [],
   "source": [
    "df.events"
   ]
  },
  {
   "cell_type": "code",
   "execution_count": null,
   "metadata": {},
   "outputs": [],
   "source": []
  },
  {
   "cell_type": "markdown",
   "metadata": {},
   "source": [
    "## Players\n",
    "\n",
    "Produces a summary of each player with the option to normilised either via minutes, actions or phases. "
   ]
  },
  {
   "cell_type": "code",
   "execution_count": null,
   "metadata": {
    "scrolled": true
   },
   "outputs": [],
   "source": [
    "df.player_summary(norm='mins')"
   ]
  },
  {
   "cell_type": "code",
   "execution_count": null,
   "metadata": {
    "scrolled": true
   },
   "outputs": [],
   "source": [
    "df.player_summary(norm='actions')"
   ]
  },
  {
   "cell_type": "code",
   "execution_count": null,
   "metadata": {
    "scrolled": true
   },
   "outputs": [],
   "source": [
    "df.player_summary(norm='phases')"
   ]
  },
  {
   "cell_type": "code",
   "execution_count": null,
   "metadata": {
    "scrolled": true
   },
   "outputs": [],
   "source": [
    "df.player_summary()"
   ]
  },
  {
   "cell_type": "code",
   "execution_count": null,
   "metadata": {},
   "outputs": [],
   "source": [
    "df."
   ]
  }
 ],
 "metadata": {
  "kernelspec": {
   "display_name": "Python 3",
   "language": "python",
   "name": "python3"
  },
  "language_info": {
   "codemirror_mode": {
    "name": "ipython",
    "version": 3
   },
   "file_extension": ".py",
   "mimetype": "text/x-python",
   "name": "python",
   "nbconvert_exporter": "python",
   "pygments_lexer": "ipython3",
   "version": "3.6.7"
  }
 },
 "nbformat": 4,
 "nbformat_minor": 2
}
